{
  "nbformat": 4,
  "nbformat_minor": 0,
  "metadata": {
    "colab": {
      "name": "mnist_all_numbers_001.ipynb",
      "provenance": [],
      "collapsed_sections": [],
      "mount_file_id": "https://github.com/Dennis-fast-ai/MNIST/blob/main/mnist_all_numbers_001.ipynb",
      "authorship_tag": "ABX9TyN/deLWSOuDYGCH/SK9YLRg",
      "include_colab_link": true
    },
    "kernelspec": {
      "name": "python3",
      "display_name": "Python 3"
    },
    "accelerator": "GPU",
    "widgets": {
      "application/vnd.jupyter.widget-state+json": {
        "877470efee0e42ae9c62781924efe3e1": {
          "model_module": "@jupyter-widgets/controls",
          "model_name": "HBoxModel",
          "state": {
            "_view_name": "HBoxView",
            "_dom_classes": [],
            "_model_name": "HBoxModel",
            "_view_module": "@jupyter-widgets/controls",
            "_model_module_version": "1.5.0",
            "_view_count": null,
            "_view_module_version": "1.5.0",
            "box_style": "",
            "layout": "IPY_MODEL_662a61b0dc4940309590bb077d6ef362",
            "_model_module": "@jupyter-widgets/controls",
            "children": [
              "IPY_MODEL_a658613525814b7380d6b92694ebd046",
              "IPY_MODEL_35532118e91944edb3dfb3bb7e8a3ea5"
            ]
          }
        },
        "662a61b0dc4940309590bb077d6ef362": {
          "model_module": "@jupyter-widgets/base",
          "model_name": "LayoutModel",
          "state": {
            "_view_name": "LayoutView",
            "grid_template_rows": null,
            "right": null,
            "justify_content": null,
            "_view_module": "@jupyter-widgets/base",
            "overflow": null,
            "_model_module_version": "1.2.0",
            "_view_count": null,
            "flex_flow": null,
            "width": null,
            "min_width": null,
            "border": null,
            "align_items": null,
            "bottom": null,
            "_model_module": "@jupyter-widgets/base",
            "top": null,
            "grid_column": null,
            "overflow_y": null,
            "overflow_x": null,
            "grid_auto_flow": null,
            "grid_area": null,
            "grid_template_columns": null,
            "flex": null,
            "_model_name": "LayoutModel",
            "justify_items": null,
            "grid_row": null,
            "max_height": null,
            "align_content": null,
            "visibility": null,
            "align_self": null,
            "height": null,
            "min_height": null,
            "padding": null,
            "grid_auto_rows": null,
            "grid_gap": null,
            "max_width": null,
            "order": null,
            "_view_module_version": "1.2.0",
            "grid_template_areas": null,
            "object_position": null,
            "object_fit": null,
            "grid_auto_columns": null,
            "margin": null,
            "display": null,
            "left": null
          }
        },
        "a658613525814b7380d6b92694ebd046": {
          "model_module": "@jupyter-widgets/controls",
          "model_name": "FloatProgressModel",
          "state": {
            "_view_name": "ProgressView",
            "style": "IPY_MODEL_d703a5643f2441e983b2a12906c51dd2",
            "_dom_classes": [],
            "description": "100%",
            "_model_name": "FloatProgressModel",
            "bar_style": "success",
            "max": 87306240,
            "_view_module": "@jupyter-widgets/controls",
            "_model_module_version": "1.5.0",
            "value": 87306240,
            "_view_count": null,
            "_view_module_version": "1.5.0",
            "orientation": "horizontal",
            "min": 0,
            "description_tooltip": null,
            "_model_module": "@jupyter-widgets/controls",
            "layout": "IPY_MODEL_8e24ee48eba84e27aecf6fa90180f5de"
          }
        },
        "35532118e91944edb3dfb3bb7e8a3ea5": {
          "model_module": "@jupyter-widgets/controls",
          "model_name": "HTMLModel",
          "state": {
            "_view_name": "HTMLView",
            "style": "IPY_MODEL_fbf93dcb2e184a20a3b82f20d50a032c",
            "_dom_classes": [],
            "description": "",
            "_model_name": "HTMLModel",
            "placeholder": "​",
            "_view_module": "@jupyter-widgets/controls",
            "_model_module_version": "1.5.0",
            "value": " 83.3M/83.3M [00:12&lt;00:00, 6.91MB/s]",
            "_view_count": null,
            "_view_module_version": "1.5.0",
            "description_tooltip": null,
            "_model_module": "@jupyter-widgets/controls",
            "layout": "IPY_MODEL_a5e4c711106149e9b22d8ee7c5c76336"
          }
        },
        "d703a5643f2441e983b2a12906c51dd2": {
          "model_module": "@jupyter-widgets/controls",
          "model_name": "ProgressStyleModel",
          "state": {
            "_view_name": "StyleView",
            "_model_name": "ProgressStyleModel",
            "description_width": "initial",
            "_view_module": "@jupyter-widgets/base",
            "_model_module_version": "1.5.0",
            "_view_count": null,
            "_view_module_version": "1.2.0",
            "bar_color": null,
            "_model_module": "@jupyter-widgets/controls"
          }
        },
        "8e24ee48eba84e27aecf6fa90180f5de": {
          "model_module": "@jupyter-widgets/base",
          "model_name": "LayoutModel",
          "state": {
            "_view_name": "LayoutView",
            "grid_template_rows": null,
            "right": null,
            "justify_content": null,
            "_view_module": "@jupyter-widgets/base",
            "overflow": null,
            "_model_module_version": "1.2.0",
            "_view_count": null,
            "flex_flow": null,
            "width": null,
            "min_width": null,
            "border": null,
            "align_items": null,
            "bottom": null,
            "_model_module": "@jupyter-widgets/base",
            "top": null,
            "grid_column": null,
            "overflow_y": null,
            "overflow_x": null,
            "grid_auto_flow": null,
            "grid_area": null,
            "grid_template_columns": null,
            "flex": null,
            "_model_name": "LayoutModel",
            "justify_items": null,
            "grid_row": null,
            "max_height": null,
            "align_content": null,
            "visibility": null,
            "align_self": null,
            "height": null,
            "min_height": null,
            "padding": null,
            "grid_auto_rows": null,
            "grid_gap": null,
            "max_width": null,
            "order": null,
            "_view_module_version": "1.2.0",
            "grid_template_areas": null,
            "object_position": null,
            "object_fit": null,
            "grid_auto_columns": null,
            "margin": null,
            "display": null,
            "left": null
          }
        },
        "fbf93dcb2e184a20a3b82f20d50a032c": {
          "model_module": "@jupyter-widgets/controls",
          "model_name": "DescriptionStyleModel",
          "state": {
            "_view_name": "StyleView",
            "_model_name": "DescriptionStyleModel",
            "description_width": "",
            "_view_module": "@jupyter-widgets/base",
            "_model_module_version": "1.5.0",
            "_view_count": null,
            "_view_module_version": "1.2.0",
            "_model_module": "@jupyter-widgets/controls"
          }
        },
        "a5e4c711106149e9b22d8ee7c5c76336": {
          "model_module": "@jupyter-widgets/base",
          "model_name": "LayoutModel",
          "state": {
            "_view_name": "LayoutView",
            "grid_template_rows": null,
            "right": null,
            "justify_content": null,
            "_view_module": "@jupyter-widgets/base",
            "overflow": null,
            "_model_module_version": "1.2.0",
            "_view_count": null,
            "flex_flow": null,
            "width": null,
            "min_width": null,
            "border": null,
            "align_items": null,
            "bottom": null,
            "_model_module": "@jupyter-widgets/base",
            "top": null,
            "grid_column": null,
            "overflow_y": null,
            "overflow_x": null,
            "grid_auto_flow": null,
            "grid_area": null,
            "grid_template_columns": null,
            "flex": null,
            "_model_name": "LayoutModel",
            "justify_items": null,
            "grid_row": null,
            "max_height": null,
            "align_content": null,
            "visibility": null,
            "align_self": null,
            "height": null,
            "min_height": null,
            "padding": null,
            "grid_auto_rows": null,
            "grid_gap": null,
            "max_width": null,
            "order": null,
            "_view_module_version": "1.2.0",
            "grid_template_areas": null,
            "object_position": null,
            "object_fit": null,
            "grid_auto_columns": null,
            "margin": null,
            "display": null,
            "left": null
          }
        }
      }
    }
  },
  "cells": [
    {
      "cell_type": "markdown",
      "metadata": {
        "id": "view-in-github",
        "colab_type": "text"
      },
      "source": [
        "<a href=\"https://colab.research.google.com/github/Dennis-fast-ai/full_MNIST/blob/main/mnist_all_numbers_001.ipynb\" target=\"_parent\"><img src=\"https://colab.research.google.com/assets/colab-badge.svg\" alt=\"Open In Colab\"/></a>"
      ]
    },
    {
      "cell_type": "code",
      "metadata": {
        "id": "27TQY3rllq0F",
        "colab": {
          "base_uri": "https://localhost:8080/"
        },
        "outputId": "d43c4045-cf5a-4f06-8dba-42719399e202"
      },
      "source": [
        "#hide\n",
        "!pip install -Uqq fastbook\n",
        "import fastbook\n",
        "fastbook.setup_book()"
      ],
      "execution_count": 1,
      "outputs": [
        {
          "output_type": "stream",
          "text": [
            "\u001b[?25l\r\u001b[K     |▌                               | 10kB 29.1MB/s eta 0:00:01\r\u001b[K     |█                               | 20kB 33.8MB/s eta 0:00:01\r\u001b[K     |█▍                              | 30kB 18.2MB/s eta 0:00:01\r\u001b[K     |█▉                              | 40kB 21.8MB/s eta 0:00:01\r\u001b[K     |██▎                             | 51kB 23.6MB/s eta 0:00:01\r\u001b[K     |██▊                             | 61kB 17.1MB/s eta 0:00:01\r\u001b[K     |███▏                            | 71kB 17.5MB/s eta 0:00:01\r\u001b[K     |███▋                            | 81kB 18.8MB/s eta 0:00:01\r\u001b[K     |████                            | 92kB 17.7MB/s eta 0:00:01\r\u001b[K     |████▌                           | 102kB 17.5MB/s eta 0:00:01\r\u001b[K     |█████                           | 112kB 17.5MB/s eta 0:00:01\r\u001b[K     |█████▌                          | 122kB 17.5MB/s eta 0:00:01\r\u001b[K     |██████                          | 133kB 17.5MB/s eta 0:00:01\r\u001b[K     |██████▍                         | 143kB 17.5MB/s eta 0:00:01\r\u001b[K     |██████▉                         | 153kB 17.5MB/s eta 0:00:01\r\u001b[K     |███████▎                        | 163kB 17.5MB/s eta 0:00:01\r\u001b[K     |███████▊                        | 174kB 17.5MB/s eta 0:00:01\r\u001b[K     |████████▏                       | 184kB 17.5MB/s eta 0:00:01\r\u001b[K     |████████▋                       | 194kB 17.5MB/s eta 0:00:01\r\u001b[K     |█████████                       | 204kB 17.5MB/s eta 0:00:01\r\u001b[K     |█████████▋                      | 215kB 17.5MB/s eta 0:00:01\r\u001b[K     |██████████                      | 225kB 17.5MB/s eta 0:00:01\r\u001b[K     |██████████▌                     | 235kB 17.5MB/s eta 0:00:01\r\u001b[K     |███████████                     | 245kB 17.5MB/s eta 0:00:01\r\u001b[K     |███████████▍                    | 256kB 17.5MB/s eta 0:00:01\r\u001b[K     |███████████▉                    | 266kB 17.5MB/s eta 0:00:01\r\u001b[K     |████████████▎                   | 276kB 17.5MB/s eta 0:00:01\r\u001b[K     |████████████▊                   | 286kB 17.5MB/s eta 0:00:01\r\u001b[K     |█████████████▏                  | 296kB 17.5MB/s eta 0:00:01\r\u001b[K     |█████████████▋                  | 307kB 17.5MB/s eta 0:00:01\r\u001b[K     |██████████████                  | 317kB 17.5MB/s eta 0:00:01\r\u001b[K     |██████████████▋                 | 327kB 17.5MB/s eta 0:00:01\r\u001b[K     |███████████████                 | 337kB 17.5MB/s eta 0:00:01\r\u001b[K     |███████████████▌                | 348kB 17.5MB/s eta 0:00:01\r\u001b[K     |████████████████                | 358kB 17.5MB/s eta 0:00:01\r\u001b[K     |████████████████▍               | 368kB 17.5MB/s eta 0:00:01\r\u001b[K     |████████████████▉               | 378kB 17.5MB/s eta 0:00:01\r\u001b[K     |█████████████████▎              | 389kB 17.5MB/s eta 0:00:01\r\u001b[K     |█████████████████▊              | 399kB 17.5MB/s eta 0:00:01\r\u001b[K     |██████████████████▏             | 409kB 17.5MB/s eta 0:00:01\r\u001b[K     |██████████████████▋             | 419kB 17.5MB/s eta 0:00:01\r\u001b[K     |███████████████████▏            | 430kB 17.5MB/s eta 0:00:01\r\u001b[K     |███████████████████▋            | 440kB 17.5MB/s eta 0:00:01\r\u001b[K     |████████████████████            | 450kB 17.5MB/s eta 0:00:01\r\u001b[K     |████████████████████▌           | 460kB 17.5MB/s eta 0:00:01\r\u001b[K     |█████████████████████           | 471kB 17.5MB/s eta 0:00:01\r\u001b[K     |█████████████████████▍          | 481kB 17.5MB/s eta 0:00:01\r\u001b[K     |█████████████████████▉          | 491kB 17.5MB/s eta 0:00:01\r\u001b[K     |██████████████████████▎         | 501kB 17.5MB/s eta 0:00:01\r\u001b[K     |██████████████████████▊         | 512kB 17.5MB/s eta 0:00:01\r\u001b[K     |███████████████████████▏        | 522kB 17.5MB/s eta 0:00:01\r\u001b[K     |███████████████████████▋        | 532kB 17.5MB/s eta 0:00:01\r\u001b[K     |████████████████████████▏       | 542kB 17.5MB/s eta 0:00:01\r\u001b[K     |████████████████████████▋       | 552kB 17.5MB/s eta 0:00:01\r\u001b[K     |█████████████████████████       | 563kB 17.5MB/s eta 0:00:01\r\u001b[K     |█████████████████████████▌      | 573kB 17.5MB/s eta 0:00:01\r\u001b[K     |██████████████████████████      | 583kB 17.5MB/s eta 0:00:01\r\u001b[K     |██████████████████████████▍     | 593kB 17.5MB/s eta 0:00:01\r\u001b[K     |██████████████████████████▉     | 604kB 17.5MB/s eta 0:00:01\r\u001b[K     |███████████████████████████▎    | 614kB 17.5MB/s eta 0:00:01\r\u001b[K     |███████████████████████████▊    | 624kB 17.5MB/s eta 0:00:01\r\u001b[K     |████████████████████████████▏   | 634kB 17.5MB/s eta 0:00:01\r\u001b[K     |████████████████████████████▊   | 645kB 17.5MB/s eta 0:00:01\r\u001b[K     |█████████████████████████████▏  | 655kB 17.5MB/s eta 0:00:01\r\u001b[K     |█████████████████████████████▋  | 665kB 17.5MB/s eta 0:00:01\r\u001b[K     |██████████████████████████████  | 675kB 17.5MB/s eta 0:00:01\r\u001b[K     |██████████████████████████████▌ | 686kB 17.5MB/s eta 0:00:01\r\u001b[K     |███████████████████████████████ | 696kB 17.5MB/s eta 0:00:01\r\u001b[K     |███████████████████████████████▍| 706kB 17.5MB/s eta 0:00:01\r\u001b[K     |███████████████████████████████▉| 716kB 17.5MB/s eta 0:00:01\r\u001b[K     |████████████████████████████████| 727kB 17.5MB/s \n",
            "\u001b[K     |████████████████████████████████| 194kB 56.5MB/s \n",
            "\u001b[K     |████████████████████████████████| 1.2MB 49.3MB/s \n",
            "\u001b[K     |████████████████████████████████| 51kB 7.9MB/s \n",
            "\u001b[K     |████████████████████████████████| 61kB 8.3MB/s \n",
            "\u001b[?25hMounted at /content/gdrive\n"
          ],
          "name": "stdout"
        }
      ]
    },
    {
      "cell_type": "code",
      "metadata": {
        "id": "-GSJ-0nHlq0W"
      },
      "source": [
        "#hide\n",
        "from fastai.vision.all import *\n",
        "from fastbook import *\n",
        "from fastai.vision.widgets import *\n",
        "\n",
        "matplotlib.rc('image', cmap='Greys')"
      ],
      "execution_count": 2,
      "outputs": []
    },
    {
      "cell_type": "code",
      "metadata": {
        "id": "fZODjKQCUqc_",
        "colab": {
          "base_uri": "https://localhost:8080/",
          "height": 17
        },
        "outputId": "9c3813c8-c755-4807-942d-45ebf4f098b5"
      },
      "source": [
        "path = untar_data(URLs.MNIST)"
      ],
      "execution_count": 3,
      "outputs": [
        {
          "output_type": "display_data",
          "data": {
            "text/html": [
              ""
            ],
            "text/plain": [
              "<IPython.core.display.HTML object>"
            ]
          },
          "metadata": {
            "tags": []
          }
        }
      ]
    },
    {
      "cell_type": "code",
      "metadata": {
        "colab": {
          "base_uri": "https://localhost:8080/"
        },
        "id": "YxzsFqJ8IDg9",
        "outputId": "89920bfe-609f-4c11-842a-6c62fa7592bb"
      },
      "source": [
        "dls = ImageDataLoaders.from_folder(path, valid_pct=0.2)\r\n",
        "dls.valid_ds.items[:6]"
      ],
      "execution_count": 4,
      "outputs": [
        {
          "output_type": "execute_result",
          "data": {
            "text/plain": [
              "[Path('/root/.fastai/data/mnist_png/training/1/44935.png'),\n",
              " Path('/root/.fastai/data/mnist_png/testing/3/5638.png'),\n",
              " Path('/root/.fastai/data/mnist_png/training/4/10758.png'),\n",
              " Path('/root/.fastai/data/mnist_png/training/2/11339.png'),\n",
              " Path('/root/.fastai/data/mnist_png/training/4/6729.png'),\n",
              " Path('/root/.fastai/data/mnist_png/training/6/38659.png')]"
            ]
          },
          "metadata": {
            "tags": []
          },
          "execution_count": 4
        }
      ]
    },
    {
      "cell_type": "code",
      "metadata": {
        "id": "PzyeY02vJP14"
      },
      "source": [
        "fnames = get_image_files(path)\r\n",
        "def label_func(x): return x.parent.name\r\n",
        "dls = ImageDataLoaders.from_path_func(path, fnames, label_func)"
      ],
      "execution_count": 5,
      "outputs": []
    },
    {
      "cell_type": "code",
      "metadata": {
        "id": "DbIMFkzeA9dg"
      },
      "source": [
        "class DataLoaders(GetAttr):\r\n",
        "    def __init__(self, *loaders): self.loaders = loaders\r\n",
        "    def __getitem__(self, i): return self.loaders[i]\r\n",
        "    train,valid = add_props(lambda i,self: self[i])"
      ],
      "execution_count": 6,
      "outputs": []
    },
    {
      "cell_type": "code",
      "metadata": {
        "id": "wH9CFnPQFucI"
      },
      "source": [
        "training = DataBlock(\r\n",
        "    blocks=(ImageBlock, CategoryBlock), \r\n",
        "    get_items=get_image_files, \r\n",
        "    splitter=RandomSplitter(valid_pct=0.2, seed=42),\r\n",
        "    get_y=parent_label,\r\n",
        "    item_tfms=Resize(128))"
      ],
      "execution_count": 7,
      "outputs": []
    },
    {
      "cell_type": "code",
      "metadata": {
        "id": "vWYhC6wRBBIa"
      },
      "source": [
        "dls = training.dataloaders(path)"
      ],
      "execution_count": 8,
      "outputs": []
    },
    {
      "cell_type": "code",
      "metadata": {
        "colab": {
          "base_uri": "https://localhost:8080/",
          "height": 369
        },
        "id": "8Vb2EauWKlFt",
        "outputId": "d4204ce0-ea7c-4447-ca7a-faa32ed1ec4c"
      },
      "source": [
        "dls.valid.show_batch(max_n=10, nrows=2)"
      ],
      "execution_count": 9,
      "outputs": [
        {
          "output_type": "display_data",
          "data": {
            "image/png": "[encoded data removed]",
            "text/plain": [
              "<Figure size 1080x432 with 10 Axes>"
            ]
          },
          "metadata": {
            "tags": [],
            "needs_background": "light"
          }
        }
      ]
    },
    {
      "cell_type": "code",
      "metadata": {
        "colab": {
          "base_uri": "https://localhost:8080/",
          "height": 369,
          "referenced_widgets": [
            "877470efee0e42ae9c62781924efe3e1",
            "662a61b0dc4940309590bb077d6ef362",
            "a658613525814b7380d6b92694ebd046",
            "35532118e91944edb3dfb3bb7e8a3ea5",
            "d703a5643f2441e983b2a12906c51dd2",
            "8e24ee48eba84e27aecf6fa90180f5de",
            "fbf93dcb2e184a20a3b82f20d50a032c",
            "a5e4c711106149e9b22d8ee7c5c76336"
          ]
        },
        "id": "xlD3J3WKK6t3",
        "outputId": "977f3b19-496e-4c3f-871c-eb5a91466936"
      },
      "source": [
        "learn = cnn_learner(dls, resnet34, metrics=error_rate)\r\n",
        "lr_min,lr_steep = learn.lr_find()"
      ],
      "execution_count": 10,
      "outputs": [
        {
          "output_type": "stream",
          "text": [
            "Downloading: \"https://download.pytorch.org/models/resnet34-333f7ec4.pth\" to /root/.cache/torch/hub/checkpoints/resnet34-333f7ec4.pth\n"
          ],
          "name": "stderr"
        },
        {
          "output_type": "display_data",
          "data": {
            "application/vnd.jupyter.widget-view+json": {
              "model_id": "877470efee0e42ae9c62781924efe3e1",
              "version_minor": 0,
              "version_major": 2
            },
            "text/plain": [
              "HBox(children=(FloatProgress(value=0.0, max=87306240.0), HTML(value='')))"
            ]
          },
          "metadata": {
            "tags": []
          }
        },
        {
          "output_type": "stream",
          "text": [
            "\n"
          ],
          "name": "stdout"
        },
        {
          "output_type": "display_data",
          "data": {
            "text/html": [
              ""
            ],
            "text/plain": [
              "<IPython.core.display.HTML object>"
            ]
          },
          "metadata": {
            "tags": []
          }
        },
        {
          "output_type": "display_data",
          "data": {
            "image/png": "[encoded data removed]",
            "text/plain": [
              "<Figure size 432x288 with 1 Axes>"
            ]
          },
          "metadata": {
            "tags": [],
            "needs_background": "light"
          }
        }
      ]
    },
    {
      "cell_type": "code",
      "metadata": {
        "colab": {
          "base_uri": "https://localhost:8080/",
          "height": 343
        },
        "id": "UTypHa4NLFkn",
        "outputId": "d9977f96-ccbf-4e86-9bd8-b269e539e3b1"
      },
      "source": [
        "learn.fit_one_cycle(10, 1e-2)"
      ],
      "execution_count": 11,
      "outputs": [
        {
          "output_type": "display_data",
          "data": {
            "text/html": [
              "<table border=\"1\" class=\"dataframe\">\n",
              "  <thead>\n",
              "    <tr style=\"text-align: left;\">\n",
              "      <th>epoch</th>\n",
              "      <th>train_loss</th>\n",
              "      <th>valid_loss</th>\n",
              "      <th>error_rate</th>\n",
              "      <th>time</th>\n",
              "    </tr>\n",
              "  </thead>\n",
              "  <tbody>\n",
              "    <tr>\n",
              "      <td>0</td>\n",
              "      <td>0.107781</td>\n",
              "      <td>0.069549</td>\n",
              "      <td>0.018000</td>\n",
              "      <td>02:11</td>\n",
              "    </tr>\n",
              "    <tr>\n",
              "      <td>1</td>\n",
              "      <td>0.103565</td>\n",
              "      <td>0.073040</td>\n",
              "      <td>0.017143</td>\n",
              "      <td>02:12</td>\n",
              "    </tr>\n",
              "    <tr>\n",
              "      <td>2</td>\n",
              "      <td>0.096335</td>\n",
              "      <td>0.048902</td>\n",
              "      <td>0.012500</td>\n",
              "      <td>02:12</td>\n",
              "    </tr>\n",
              "    <tr>\n",
              "      <td>3</td>\n",
              "      <td>0.045487</td>\n",
              "      <td>0.110185</td>\n",
              "      <td>0.027071</td>\n",
              "      <td>02:12</td>\n",
              "    </tr>\n",
              "    <tr>\n",
              "      <td>4</td>\n",
              "      <td>0.038126</td>\n",
              "      <td>0.036691</td>\n",
              "      <td>0.009786</td>\n",
              "      <td>02:13</td>\n",
              "    </tr>\n",
              "    <tr>\n",
              "      <td>5</td>\n",
              "      <td>0.028041</td>\n",
              "      <td>0.028054</td>\n",
              "      <td>0.006643</td>\n",
              "      <td>02:13</td>\n",
              "    </tr>\n",
              "    <tr>\n",
              "      <td>6</td>\n",
              "      <td>0.020439</td>\n",
              "      <td>0.025867</td>\n",
              "      <td>0.006071</td>\n",
              "      <td>02:13</td>\n",
              "    </tr>\n",
              "    <tr>\n",
              "      <td>7</td>\n",
              "      <td>0.013564</td>\n",
              "      <td>0.019636</td>\n",
              "      <td>0.005857</td>\n",
              "      <td>02:12</td>\n",
              "    </tr>\n",
              "    <tr>\n",
              "      <td>8</td>\n",
              "      <td>0.005637</td>\n",
              "      <td>0.018042</td>\n",
              "      <td>0.004857</td>\n",
              "      <td>02:13</td>\n",
              "    </tr>\n",
              "    <tr>\n",
              "      <td>9</td>\n",
              "      <td>0.009040</td>\n",
              "      <td>0.018133</td>\n",
              "      <td>0.005071</td>\n",
              "      <td>02:13</td>\n",
              "    </tr>\n",
              "  </tbody>\n",
              "</table>"
            ],
            "text/plain": [
              "<IPython.core.display.HTML object>"
            ]
          },
          "metadata": {
            "tags": []
          }
        }
      ]
    },
    {
      "cell_type": "code",
      "metadata": {
        "id": "tc0bosbOQI1w"
      },
      "source": [
        "learn.export(\"export_MNIST\")"
      ],
      "execution_count": 13,
      "outputs": []
    }
  ]
}